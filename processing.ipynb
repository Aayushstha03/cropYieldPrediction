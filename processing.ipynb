{
 "cells": [
  {
   "cell_type": "code",
   "execution_count": 19,
   "metadata": {},
   "outputs": [],
   "source": [
    "import pandas as pd\n",
    "\n",
    "crop_df = pd.read_csv(\"data/structured_crop_yield.csv\")\n",
    "weather_df = pd.read_csv(\"data/structured_weather.csv\")"
   ]
  },
  {
   "cell_type": "code",
   "execution_count": 20,
   "metadata": {},
   "outputs": [
    {
     "name": "stdout",
     "output_type": "stream",
     "text": [
      "['Achham' 'Arghakhanchi' 'Baglung' 'Baitadi' 'Bajhang' 'Bajura' 'Banke'\n",
      " 'Bara' 'Bardiya' 'Bhaktapur' 'Bhojpur' 'Chitwan' 'Dadeldhura' 'Dailekh'\n",
      " 'Dang' 'Darchula' 'Dhading' 'Dhankuta' 'Dhanusa' 'Dolakha' 'Dolpa' 'Doti'\n",
      " 'Gorkha' 'Gulmi' 'Humla' 'Ilam' 'Jajarkot' 'Jhapa' 'Jumla' 'Kailali'\n",
      " 'Kalikot' 'Kanchanpur' 'Kapilbastu' 'Kaski' 'Kathmandu' 'Kavre' 'Khotang'\n",
      " 'Lalitpur' 'Lamjung' 'Mahottari' 'Makwanpur' 'Manang' 'Morang' 'Mugu'\n",
      " 'Mustang' 'Myagdi' 'Nawalparasi' 'Nuwakot' 'Okhaldhunga' 'Palpa'\n",
      " 'Panchthar' 'Parbat' 'Parsa' 'Pyuthan' 'Ramechhap' 'Rasuwa' 'Rautahat'\n",
      " 'Rolpa' 'Rukum' 'Rupandehi' 'Salyan' 'Sankhuwasabha' 'Saptari' 'Sarlahi'\n",
      " 'Sindhuli' 'Sindhupalchok' 'Siraha' 'Solukhumbu' 'Sunsari' 'Surkhet'\n",
      " 'Syangja' 'Tanahu' 'Taplejung' 'Tehrathum' 'Udayapur']\n"
     ]
    }
   ],
   "source": [
    "# finding out unique values to iddentify the missing districts inbetween the datasets\n",
    "cropUniqueDistricts = crop_df['DISTRICT_NAME'].unique()\n",
    "print(cropUniqueDistricts)"
   ]
  },
  {
   "cell_type": "code",
   "execution_count": 21,
   "metadata": {},
   "outputs": [
    {
     "name": "stdout",
     "output_type": "stream",
     "text": [
      "['Arghakhanchi' 'Baglung' 'Baitadi' 'Bajhang' 'Banke' 'Bara' 'Bardiya'\n",
      " 'Bhaktapur' 'Chitwan' 'Dadeldhura' 'Dailekh' 'Dang' 'Darchula' 'Dhading'\n",
      " 'Dhankuta' 'Dhanusa' 'Dolakha' 'Dolpa' 'Doti' 'Gorkha' 'Gulmi' 'Humla'\n",
      " 'Ilam' 'Jhapa' 'Jumla' 'Kavre' 'Kailali' 'Kanchanpur' 'Kaski' 'Kathmandu'\n",
      " 'Lalitpur' 'Lamjung' 'Mahottari' 'Makwanpur' 'Manang' 'Morang' 'Mugu'\n",
      " 'Mustang' 'Myagdi' 'Nawalparasi' 'Nuwakot' 'Okhaldhunga' 'Palpa'\n",
      " 'Panchthar' 'Parbat' 'Rasuwa' 'Rautahat' 'Rukum' 'Rupandehi' 'Salyan'\n",
      " 'Sankhuwasabha' 'Saptari' 'Sarlahi' 'Sindhuli' 'Solukhumbu' 'Sunsari'\n",
      " 'Surkhet' 'Syangja' 'Tanahu' 'Taplejung' 'Tehrathum' 'Udayapur']\n"
     ]
    }
   ],
   "source": [
    "weatherUniqueDistricts = weather_df['DISTRICT'].unique()\n",
    "print(weatherUniqueDistricts)"
   ]
  },
  {
   "cell_type": "code",
   "execution_count": null,
   "metadata": {},
   "outputs": [
    {
     "name": "stdout",
     "output_type": "stream",
     "text": [
      "{'Bhojpur', 'Jajarkot', 'Kalikot', 'Ramechhap', 'Achham', 'Rolpa', 'Sindhupalchok', 'Pyuthan', 'Parsa', 'Kapilbastu', 'Siraha', 'Bajura', 'Khotang'}\n",
      "set()\n"
     ]
    }
   ],
   "source": [
    "set1 = set(cropUniqueDistricts)\n",
    "set2 = set(weatherUniqueDistricts)\n",
    "# districts that are missing in the weather dataset but present in the crop dataset\n",
    "print(set1-set2)\n",
    "# districts that are missing in the crop dataset but present in the weather dataset\n",
    "# renamed dsitricts with the same convention to prevent disparity\n",
    "print(set2-set1)"
   ]
  }
 ],
 "metadata": {
  "kernelspec": {
   "display_name": "environment",
   "language": "python",
   "name": "python3"
  },
  "language_info": {
   "codemirror_mode": {
    "name": "ipython",
    "version": 3
   },
   "file_extension": ".py",
   "mimetype": "text/x-python",
   "name": "python",
   "nbconvert_exporter": "python",
   "pygments_lexer": "ipython3",
   "version": "3.12.5"
  }
 },
 "nbformat": 4,
 "nbformat_minor": 2
}
